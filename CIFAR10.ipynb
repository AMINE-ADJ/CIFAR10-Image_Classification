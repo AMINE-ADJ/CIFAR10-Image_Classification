{
 "cells": [
  {
   "cell_type": "code",
   "execution_count": 35,
   "id": "d029f8c7",
   "metadata": {},
   "outputs": [],
   "source": [
    "import tensorflow as tf\n",
    "from tensorflow.keras import layers, datasets, models\n",
    "import matplotlib.pyplot as plt\n",
    "import numpy as np\n",
    "\n",
    "#for a in /sys/bus/pci/devices/*; do echo 0 | sudo tee -a $a/numa_node; done"
   ]
  },
  {
   "cell_type": "code",
   "execution_count": 2,
   "id": "ad207ad2",
   "metadata": {},
   "outputs": [
    {
     "data": {
      "text/plain": [
       "[PhysicalDevice(name='/physical_device:CPU:0', device_type='CPU'),\n",
       " PhysicalDevice(name='/physical_device:GPU:0', device_type='GPU')]"
      ]
     },
     "execution_count": 2,
     "metadata": {},
     "output_type": "execute_result"
    }
   ],
   "source": [
    "tf.config.experimental.list_physical_devices()"
   ]
  },
  {
   "cell_type": "code",
   "execution_count": 3,
   "id": "31ca65ac",
   "metadata": {},
   "outputs": [
    {
     "data": {
      "text/plain": [
       "True"
      ]
     },
     "execution_count": 3,
     "metadata": {},
     "output_type": "execute_result"
    }
   ],
   "source": [
    "tf.test.is_built_with_cuda()"
   ]
  },
  {
   "cell_type": "code",
   "execution_count": 4,
   "id": "454ab49a",
   "metadata": {},
   "outputs": [],
   "source": [
    "(X_train, y_train),(X_test, y_test) = datasets.cifar10.load_data()"
   ]
  },
  {
   "cell_type": "code",
   "execution_count": 5,
   "id": "d881e3b5",
   "metadata": {},
   "outputs": [
    {
     "data": {
      "text/plain": [
       "(50000, 32, 32, 3)"
      ]
     },
     "execution_count": 5,
     "metadata": {},
     "output_type": "execute_result"
    }
   ],
   "source": [
    "X_train.shape"
   ]
  },
  {
   "cell_type": "code",
   "execution_count": 6,
   "id": "a3d1dc62",
   "metadata": {},
   "outputs": [
    {
     "data": {
      "text/plain": [
       "(50000, 1)"
      ]
     },
     "execution_count": 6,
     "metadata": {},
     "output_type": "execute_result"
    }
   ],
   "source": [
    "y_train.shape"
   ]
  },
  {
   "cell_type": "code",
   "execution_count": 7,
   "id": "a2ef932f",
   "metadata": {},
   "outputs": [
    {
     "data": {
      "text/plain": [
       "array([6, 9, 9, 4, 1], dtype=uint8)"
      ]
     },
     "execution_count": 7,
     "metadata": {},
     "output_type": "execute_result"
    }
   ],
   "source": [
    "y_train = y_train.reshape(-1,)\n",
    "y_train[:5]"
   ]
  },
  {
   "cell_type": "code",
   "execution_count": 8,
   "id": "22b81c18",
   "metadata": {},
   "outputs": [],
   "source": [
    "classes = [\"airplane\",\"automobile\",\"bird\",\"cat\",\"deer\",\"dog\",\"frog\",\"horse\",\"ship\",\"truck\"]"
   ]
  },
  {
   "cell_type": "code",
   "execution_count": 26,
   "id": "8deed7c7",
   "metadata": {},
   "outputs": [],
   "source": [
    "def plotsample(X, Y, index):\n",
    "    plt.figure( figsize = (15,2))\n",
    "    plt.imshow(X[index])\n",
    "    plt.xlabel(classes[Y[index]])"
   ]
  },
  {
   "cell_type": "code",
   "execution_count": 27,
   "id": "404565aa",
   "metadata": {},
   "outputs": [
    {
     "data": {
      "image/png": "[encoded data removed]",
      "text/plain": [
       "<Figure size 1500x200 with 1 Axes>"
      ]
     },
     "metadata": {},
     "output_type": "display_data"
    }
   ],
   "source": [
    "plotsample(X_train, y_train, 1)"
   ]
  },
  {
   "cell_type": "code",
   "execution_count": 11,
   "id": "8d9e3d99",
   "metadata": {},
   "outputs": [],
   "source": [
    "X_train = X_train / 255\n",
    "X_test = X_test / 255"
   ]
  },
  {
   "cell_type": "code",
   "execution_count": 36,
   "id": "60c75938",
   "metadata": {},
   "outputs": [
    {
     "name": "stdout",
     "output_type": "stream",
     "text": [
      "Epoch 1/5\n",
      "1563/1563 [==============================] - 5s 3ms/step - loss: 1.8144 - accuracy: 0.3552\n",
      "Epoch 2/5\n",
      "1563/1563 [==============================] - 4s 3ms/step - loss: 1.6246 - accuracy: 0.4234\n",
      "Epoch 3/5\n",
      "1563/1563 [==============================] - 4s 3ms/step - loss: 1.5420 - accuracy: 0.4582\n",
      "Epoch 4/5\n",
      "1563/1563 [==============================] - 5s 3ms/step - loss: 1.4839 - accuracy: 0.4776\n",
      "Epoch 5/5\n",
      "1563/1563 [==============================] - 4s 3ms/step - loss: 1.4336 - accuracy: 0.4966\n"
     ]
    },
    {
     "data": {
      "text/plain": [
       "<keras.src.callbacks.History at 0x7f3e98377690>"
      ]
     },
     "execution_count": 36,
     "metadata": {},
     "output_type": "execute_result"
    }
   ],
   "source": [
    "#ANN test\n",
    "\n",
    "ann = models.Sequential([\n",
    "    layers.Flatten(input_shape = (32, 32, 3)), \n",
    "    layers.Dense(3000, activation = \"relu\"),\n",
    "    layers.Dense(1000, activation = \"relu\"),\n",
    "    layers.Dense(10, activation = \"sigmoid\")\n",
    "])\n",
    "\n",
    "ann.compile(\n",
    "    optimizer = \"SGD\",\n",
    "    loss = \"sparse_categorical_crossentropy\",\n",
    "    metrics = ['accuracy']\n",
    ")\n",
    "ann.fit(X_train,y_train, epochs = 5)"
   ]
  },
  {
   "cell_type": "code",
   "execution_count": 13,
   "id": "dc3935a7",
   "metadata": {},
   "outputs": [
    {
     "name": "stdout",
     "output_type": "stream",
     "text": [
      "313/313 [==============================] - 1s 1ms/step - loss: 1.4992 - accuracy: 0.4718\n"
     ]
    },
    {
     "data": {
      "text/plain": [
       "[1.499208927154541, 0.4717999994754791]"
      ]
     },
     "execution_count": 13,
     "metadata": {},
     "output_type": "execute_result"
    }
   ],
   "source": [
    "ann.evaluate(X_test, y_test)"
   ]
  },
  {
   "cell_type": "code",
   "execution_count": 14,
   "id": "fd228a00",
   "metadata": {},
   "outputs": [],
   "source": [
    "#CNN test\n",
    "\n",
    "cnn = models.Sequential([\n",
    "    #cnn\n",
    "    layers.Conv2D(filters = 32, kernel_size = (3,3), activation = 'relu', input_shape = (32,32,3)),\n",
    "    layers.MaxPooling2D((2,2)),\n",
    "    layers.Conv2D(filters = 64, kernel_size = (3,3), activation = 'relu'),\n",
    "    layers.MaxPooling2D((2,2)),\n",
    "    \n",
    "    #dense\n",
    "    layers.Flatten(),\n",
    "    layers.Dense(64, activation = \"relu\"),\n",
    "    layers.Dense(10, activation = \"softmax\")\n",
    "])"
   ]
  },
  {
   "cell_type": "code",
   "execution_count": 15,
   "id": "f62fb57f",
   "metadata": {},
   "outputs": [],
   "source": [
    "cnn.compile(\n",
    "    optimizer = 'adam',\n",
    "    loss = 'sparse_categorical_crossentropy',\n",
    "    metrics = ['accuracy']\n",
    ")"
   ]
  },
  {
   "cell_type": "code",
   "execution_count": 37,
   "id": "e28bb89e",
   "metadata": {
    "scrolled": false
   },
   "outputs": [
    {
     "name": "stdout",
     "output_type": "stream",
     "text": [
      "Epoch 1/10\n",
      "1563/1563 [==============================] - 4s 3ms/step - loss: 0.5929 - accuracy: 0.7913\n",
      "Epoch 2/10\n",
      "1563/1563 [==============================] - 4s 2ms/step - loss: 0.5627 - accuracy: 0.8023\n",
      "Epoch 3/10\n",
      "1563/1563 [==============================] - 4s 2ms/step - loss: 0.5356 - accuracy: 0.8128\n",
      "Epoch 4/10\n",
      "1563/1563 [==============================] - 4s 2ms/step - loss: 0.5094 - accuracy: 0.8203\n",
      "Epoch 5/10\n",
      "1563/1563 [==============================] - 4s 2ms/step - loss: 0.4854 - accuracy: 0.8292\n",
      "Epoch 6/10\n",
      "1563/1563 [==============================] - 4s 2ms/step - loss: 0.4627 - accuracy: 0.8357\n",
      "Epoch 7/10\n",
      "1563/1563 [==============================] - 5s 3ms/step - loss: 0.4449 - accuracy: 0.8437\n",
      "Epoch 8/10\n",
      "1563/1563 [==============================] - 5s 3ms/step - loss: 0.4267 - accuracy: 0.8478\n",
      "Epoch 9/10\n",
      "1563/1563 [==============================] - 4s 2ms/step - loss: 0.4061 - accuracy: 0.8563\n",
      "Epoch 10/10\n",
      "1563/1563 [==============================] - 4s 2ms/step - loss: 0.3868 - accuracy: 0.8609\n"
     ]
    },
    {
     "data": {
      "text/plain": [
       "<keras.src.callbacks.History at 0x7f3e981373d0>"
      ]
     },
     "execution_count": 37,
     "metadata": {},
     "output_type": "execute_result"
    }
   ],
   "source": [
    "cnn.fit(X_train, y_train, epochs = 10 )"
   ]
  },
  {
   "cell_type": "code",
   "execution_count": 17,
   "id": "2b61c0c8",
   "metadata": {
    "scrolled": true
   },
   "outputs": [
    {
     "name": "stdout",
     "output_type": "stream",
     "text": [
      "313/313 [==============================] - 1s 2ms/step - loss: 0.9333 - accuracy: 0.7000\n"
     ]
    },
    {
     "data": {
      "text/plain": [
       "[0.9333162903785706, 0.699999988079071]"
      ]
     },
     "execution_count": 17,
     "metadata": {},
     "output_type": "execute_result"
    }
   ],
   "source": [
    "cnn.evaluate(X_test, y_test)"
   ]
  },
  {
   "cell_type": "code",
   "execution_count": 19,
   "id": "5bd5ef60",
   "metadata": {},
   "outputs": [
    {
     "name": "stdout",
     "output_type": "stream",
     "text": [
      "313/313 [==============================] - 0s 976us/step\n"
     ]
    }
   ],
   "source": [
    "y_predictions = cnn.predict(X_test)"
   ]
  },
  {
   "cell_type": "code",
   "execution_count": 20,
   "id": "ee1cb35e",
   "metadata": {},
   "outputs": [
    {
     "data": {
      "text/plain": [
       "array([[1.1259408e-03, 9.5907220e-04, 1.0700846e-02, 9.2635268e-01,\n",
       "        1.2095635e-03, 1.4828556e-02, 3.9875332e-02, 3.5444202e-04,\n",
       "        4.5516170e-03, 4.1901414e-05],\n",
       "       [2.7257521e-03, 2.6172626e-01, 1.6859796e-05, 4.9054556e-06,\n",
       "        8.2679286e-09, 6.8842261e-09, 2.2804818e-07, 1.4942691e-07,\n",
       "        7.3513210e-01, 3.9376822e-04],\n",
       "       [2.4944019e-01, 2.7673665e-01, 7.6216063e-03, 1.3658474e-02,\n",
       "        3.7172756e-03, 4.8351989e-04, 7.3135778e-04, 2.5078746e-02,\n",
       "        3.5491472e-01, 6.7617476e-02],\n",
       "       [5.7771385e-01, 2.3102878e-01, 2.4271769e-02, 1.9511484e-03,\n",
       "        8.7585492e-04, 9.0906760e-06, 9.5512503e-04, 5.3699280e-04,\n",
       "        1.4578065e-01, 1.6876722e-02],\n",
       "       [1.5495526e-06, 7.3479016e-05, 5.3730896e-03, 3.9073814e-02,\n",
       "        3.7520923e-02, 4.4256734e-04, 9.1733497e-01, 2.8272440e-05,\n",
       "        1.4963152e-04, 1.5563210e-06]], dtype=float32)"
      ]
     },
     "execution_count": 20,
     "metadata": {},
     "output_type": "execute_result"
    }
   ],
   "source": [
    "y_predictions[:5]"
   ]
  },
  {
   "cell_type": "code",
   "execution_count": 21,
   "id": "a2bb6811",
   "metadata": {},
   "outputs": [
    {
     "data": {
      "text/plain": [
       "[3, 8, 8, 0, 6]"
      ]
     },
     "execution_count": 21,
     "metadata": {},
     "output_type": "execute_result"
    }
   ],
   "source": [
    "y_classes = [np.argmax(i) for i in y_predictions]\n",
    "y_classes[:5]"
   ]
  },
  {
   "cell_type": "code",
   "execution_count": 23,
   "id": "7170771d",
   "metadata": {},
   "outputs": [
    {
     "data": {
      "text/plain": [
       "array([3, 8, 8, 0, 6], dtype=uint8)"
      ]
     },
     "execution_count": 23,
     "metadata": {},
     "output_type": "execute_result"
    }
   ],
   "source": [
    "y_test = y_test.reshape(-1,)\n",
    "y_test[:5]"
   ]
  },
  {
   "cell_type": "code",
   "execution_count": 24,
   "id": "484a88f9",
   "metadata": {},
   "outputs": [],
   "source": [
    "def verifSample(index):\n",
    "    print(classes[y_test[index]])"
   ]
  },
  {
   "cell_type": "code",
   "execution_count": 34,
   "id": "53a5cac4",
   "metadata": {},
   "outputs": [
    {
     "data": {
      "image/png": "[encoded data removed]",
      "text/plain": [
       "<Figure size 1500x200 with 1 Axes>"
      ]
     },
     "metadata": {},
     "output_type": "display_data"
    }
   ],
   "source": [
    "plotsample(X_test, y_test, 0)"
   ]
  },
  {
   "cell_type": "code",
   "execution_count": 32,
   "id": "8fb1c956",
   "metadata": {},
   "outputs": [
    {
     "data": {
      "text/plain": [
       "'cat'"
      ]
     },
     "execution_count": 32,
     "metadata": {},
     "output_type": "execute_result"
    }
   ],
   "source": [
    "classes[y_classes[0]]"
   ]
  }
 ],
 "metadata": {
  "kernelspec": {
   "display_name": "Python [conda env:root] *",
   "language": "python",
   "name": "conda-root-py"
  },
  "language_info": {
   "codemirror_mode": {
    "name": "ipython",
    "version": 3
   },
   "file_extension": ".py",
   "mimetype": "text/x-python",
   "name": "python",
   "nbconvert_exporter": "python",
   "pygments_lexer": "ipython3",
   "version": "3.11.3"
  }
 },
 "nbformat": 4,
 "nbformat_minor": 5
}
